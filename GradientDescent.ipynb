{
  "nbformat": 4,
  "nbformat_minor": 0,
  "metadata": {
    "colab": {
      "provenance": [],
      "authorship_tag": "ABX9TyP3hN1W18oJ1gLIl2qZE6lY"
    },
    "kernelspec": {
      "name": "python3",
      "display_name": "Python 3"
    },
    "language_info": {
      "name": "python"
    }
  },
  "cells": [
    {
      "cell_type": "code",
      "execution_count": 1,
      "metadata": {
        "colab": {
          "base_uri": "https://localhost:8080/"
        },
        "id": "Ok7tyh_HyL9s",
        "outputId": "39f15e59-1d94-48b9-9b6c-2536c44296f4"
      },
      "outputs": [
        {
          "output_type": "stream",
          "name": "stdout",
          "text": [
            "\n",
            "========== Epoch 0 ==========\n",
            "Average loss:  0.33944294852408824\n",
            "\n",
            "========== Epoch 1 ==========\n",
            "Average loss:  0.33147083470744965\n",
            "\n",
            "========== Epoch 2 ==========\n",
            "Average loss:  0.32499752814643046\n",
            "\n",
            "========== Epoch 3 ==========\n",
            "Average loss:  0.31973828925825093\n",
            "\n",
            "========== Epoch 4 ==========\n",
            "Average loss:  0.3154527992144233\n",
            "\n",
            "========== Epoch 5 ==========\n",
            "Average loss:  0.3119424130828664\n",
            "\n",
            "========== Epoch 6 ==========\n",
            "Average loss:  0.30904555254773175\n",
            "\n",
            "========== Epoch 7 ==========\n",
            "Average loss:  0.3066324010104734\n",
            "\n",
            "========== Epoch 8 ==========\n",
            "Average loss:  0.30459963557320424\n",
            "\n",
            "========== Epoch 9 ==========\n",
            "Average loss:  0.30286560086854775\n"
          ]
        }
      ],
      "source": [
        "import numpy as np\n",
        "\n",
        "# Activation Function\n",
        "def sigmoid(w_sum):\n",
        "    return 1/(1+np.exp(-w_sum))\n",
        "\n",
        "# Get Prediction\n",
        "def predict(features, weights, bias):\n",
        "    return sigmoid(np.dot(features, weights) + bias)\n",
        "\n",
        "# Loss Function\n",
        "def cross_entropy(target, pred):\n",
        "    return -(target*np.log10(pred)+(1-target)*(np.log10(1-pred)))\n",
        "\n",
        "# Update Weights\n",
        "def gradient_descent(x, y, weights, bias, learnrate, pred):\n",
        "    new_weights = []\n",
        "    bias += learnrate*(y-pred)\n",
        "\n",
        "    for w,xi in zip(weights,x):\n",
        "        new_weight = w + learnrate*(y-pred)*xi\n",
        "        new_weights.append(new_weight)\n",
        "    return new_weights, bias\n",
        "\n",
        "# Data\n",
        "features = np.array(([0.1,0.5,0.2],[0.2,0.3,0.1],[0.7,0.4,0.2],[0.1,0.4,0.3]))\n",
        "targets = np.array([0,1,0,1])\n",
        "\n",
        "epochs = 10\n",
        "learnrate = 0.1\n",
        "\n",
        "errors = []\n",
        "weights = np.array([0.4, 0.2, 0.6])\n",
        "bias = 0.5\n",
        "\n",
        "new_weights = []\n",
        "\n",
        "for e in range(epochs):\n",
        "    for x, y in zip(features, targets):\n",
        "        pred = predict(x, weights, bias)\n",
        "        error = cross_entropy(y, pred)\n",
        "        weights, bias = gradient_descent(x, y, weights, bias, learnrate, pred)\n",
        "\n",
        "    # Printing out the log-loss error on the training set\n",
        "    out = predict(features, weights, bias)\n",
        "    loss = np.mean(cross_entropy(targets, out))\n",
        "    errors.append(loss)\n",
        "    print(\"\\n========== Epoch\", e,\"==========\")\n",
        "    print(\"Average loss: \", loss)"
      ]
    }
  ]
}